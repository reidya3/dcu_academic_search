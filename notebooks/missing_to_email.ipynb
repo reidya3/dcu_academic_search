{
 "cells": [
  {
   "cell_type": "markdown",
   "metadata": {},
   "source": [
    "# Missing To Email\n",
    "\n",
    "This notebook details how I sent each reasearcher's missing doras publications to their email address. I created a seperate email address for this \"development.dcu@gmail.com\" with password \"socadmin\". Note, I have commented the part where It sends the missing doras publications to ensure I didn't send them by accident when developing the programme by accident. \n"
   ]
  },
  {
   "cell_type": "code",
   "execution_count": 2,
   "metadata": {},
   "outputs": [],
   "source": [
    "import smtplib\n",
    "import pandas as pd\n",
    "from datetime import datetime\n",
    "from email.mime.multipart import MIMEMultipart\n",
    "from email.mime.base import MIMEBase\n",
    "from email.mime.text import MIMEText\n",
    "from email.message import EmailMessage\n",
    "from email import encoders\n",
    "from pprint import pprint\n",
    "today = datetime.today()\n",
    "month_year = today.strftime('%B') + \" \" + str(today.year)\n",
    "# reading in the reasearchers dataframe\n",
    "researchers = pd.read_csv(\"../data/SOC_Researchers_with_doras_names.csv\",encoding = \"ISO-8859-1\")\n",
    "for index, name in researchers['Researcher'].items():\n",
    "    filename = \"_\".join(name.split(\" \"))\n",
    "    FILEPATH = \"../data/Individual Missing Publications/Not on doras/{}.csv\".format(filename)\n",
    "    csv_name = filename + \".csv\"\n",
    "    msg = MIMEMultipart()\n",
    "    msg['Subject'] = \"Missing Doras publications for {}\".format(month_year)\n",
    "    msg['From'] =  \"development.dcu@gmail.com\"\n",
    "    #***********************REMOVE COMMENT FOR IT TO WORK******************\n",
    "  #  msg['To'] = researchers[\"Email\"].iloc[index]\n",
    "    #**************************************************************************\n",
    "    #The body of the email\n",
    "    body = \"Dear {},\\n\\nPlease find your missing Doras publications attached for {}.\".format(name,month_year)\n",
    "    body = MIMEText(body)\n",
    "    msg.attach(body)   \n",
    "    part = MIMEBase('application', \"octet-stream\")\n",
    "    try:\n",
    "        part.set_payload(open(FILEPATH, \"rb\").read())\n",
    "        encoders.encode_base64(part)\n",
    "        part.add_header('Content-Disposition', 'attachment', filename=csv_name)\n",
    "        msg.attach(part)\n",
    "        with smtplib.SMTP_SSL('smtp.gmail.com', 465) as smtp:\n",
    "\n",
    "            smtp.login(\"development.dcu@gmail.com\", \"socadmin\")\n",
    "            smtp.send_message(msg)\n",
    "    except FileNotFoundError:\n",
    "        pass"
   ]
  },
  {
   "cell_type": "code",
   "execution_count": null,
   "metadata": {},
   "outputs": [],
   "source": []
  }
 ],
 "metadata": {
  "kernelspec": {
   "display_name": "Python 3",
   "language": "python",
   "name": "python3"
  },
  "language_info": {
   "codemirror_mode": {
    "name": "ipython",
    "version": 3
   },
   "file_extension": ".py",
   "mimetype": "text/x-python",
   "name": "python",
   "nbconvert_exporter": "python",
   "pygments_lexer": "ipython3",
   "version": "3.7.6"
  }
 },
 "nbformat": 4,
 "nbformat_minor": 4
}
