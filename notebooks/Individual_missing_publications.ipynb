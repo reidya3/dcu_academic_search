{
 "cells": [
  {
   "cell_type": "markdown",
   "metadata": {},
   "source": [
    "# Individual Missing Publications\n",
    "\n",
    "This notebook details splitting the missing publications according to researcher name\n",
    "\n",
    "| variable | description |\n",
    "|---:|:---|\n",
    "| scholar_df | A pandas dataframe containing the missing google scholar publications. |\n",
    "| doras_df | A pandas dataframe containing the missing doras publications. |"
   ]
  },
  {
   "cell_type": "code",
   "execution_count": 1,
   "metadata": {},
   "outputs": [],
   "source": [
    "import pandas as pd\n",
    "import numpy as np\n",
    "import random\n",
    "\n",
    "scholar_df = pd.read_csv('../data/Missing Publications/not_on_google_scholar.csv')\n",
    "doras_df = pd.read_csv('../data/Missing Publications/not_on_doras.csv')"
   ]
  },
  {
   "cell_type": "markdown",
   "metadata": {},
   "source": [
    "The idx variable is used to shuffle the missing dataframe to ensure reasearchers with alphabetically higher names are not burdened with too many missing publications. "
   ]
  },
  {
   "cell_type": "code",
   "execution_count": 2,
   "metadata": {},
   "outputs": [],
   "source": [
    "idx = np.random.permutation(np.arange(len(doras_df)))\n",
    "doras_df = doras_df.iloc[idx].drop_duplicates(subset=[\"Publication Title\"], keep=\"first\").reset_index(drop=True)"
   ]
  },
  {
   "cell_type": "code",
   "execution_count": 3,
   "metadata": {},
   "outputs": [],
   "source": [
    "idx = np.random.permutation(np.arange(len(scholar_df)))\n",
    "scholar_df = scholar_df.iloc[idx].drop_duplicates(subset=[\"Publication Title\"], keep=\"first\").reset_index(drop=True)"
   ]
  },
  {
   "cell_type": "code",
   "execution_count": 4,
   "metadata": {},
   "outputs": [],
   "source": [
    "for value in  scholar_df[\"Research name\"].unique():\n",
    "    #filtering the missing google scholar publications dataframe for researcher name\n",
    "    df = scholar_df[scholar_df[\"Research name\"] == value]\n",
    "    filename = \"_\".join(value.split(\" \"))\n",
    "    df.to_csv(r\"../data/Individual Missing Publications/Not on google scholar/{}.csv\".format(filename), index = None, header=True)\n",
    "\n",
    "for value in  doras_df[\"Research name\"].unique():\n",
    "    #filtering the missing doras publications dataframe for researcher name\n",
    "    df = doras_df[doras_df[\"Research name\"] == value]\n",
    "    filename = \"_\".join(value.split(\" \"))\n",
    "    df.to_csv(r\"../data/Individual Missing Publications/Not on doras/{}.csv\".format(filename), index = None, header=True)"
   ]
  }
 ],
 "metadata": {
  "kernelspec": {
   "display_name": "Python 3",
   "language": "python",
   "name": "python3"
  },
  "language_info": {
   "codemirror_mode": {
    "name": "ipython",
    "version": 3
   },
   "file_extension": ".py",
   "mimetype": "text/x-python",
   "name": "python",
   "nbconvert_exporter": "python",
   "pygments_lexer": "ipython3",
   "version": "3.7.6"
  }
 },
 "nbformat": 4,
 "nbformat_minor": 4
}
